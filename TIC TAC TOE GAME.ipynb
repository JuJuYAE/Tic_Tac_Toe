{
 "cells": [
  {
   "cell_type": "code",
   "execution_count": 1,
   "id": "7fe89b92",
   "metadata": {},
   "outputs": [],
   "source": [
    "# Game board \n",
    "# Choose Player 1 or 2 \n",
    "# Player Chooses where to place X and O\n",
    "# Display new output \n",
    "# Check winner \n",
    "# Ask user if they want to keep playing "
   ]
  },
  {
   "cell_type": "code",
   "execution_count": 2,
   "id": "cdf050c0",
   "metadata": {},
   "outputs": [],
   "source": [
    "from IPython.display import clear_output"
   ]
  },
  {
   "cell_type": "code",
   "execution_count": 3,
   "id": "89a6386e",
   "metadata": {},
   "outputs": [],
   "source": [
    "def printboard(boardlist) : \n",
    "    clear_output()\n",
    "    print (boardlist[0] + \" | \" + boardlist[1] + \" | \" + boardlist[2])\n",
    "    print (\"- - - - -\")\n",
    "    print (boardlist[3] + \" | \" + boardlist[4] + \" | \" + boardlist[5])\n",
    "    print (\"- - - - -\")\n",
    "    print (boardlist[6] + \" | \" + boardlist[7] + \" | \" + boardlist[8])"
   ]
  },
  {
   "cell_type": "code",
   "execution_count": 4,
   "id": "8fc9b03f",
   "metadata": {},
   "outputs": [],
   "source": [
    "def player_input():\n",
    "    desired_range =[str(num) for num in range (1,10)] \n",
    "    while True :\n",
    "        playerinput = input(\"Please input a number from 1-9: \") \n",
    "        if playerinput in desired_range and playerinput.isdigit(): \n",
    "            accepted_input = int(playerinput)\n",
    "            return accepted_input\n",
    "        else : \n",
    "            print (\"\\nError: Invalid Range\")"
   ]
  },
  {
   "cell_type": "code",
   "execution_count": 5,
   "id": "d4a6d589",
   "metadata": {},
   "outputs": [],
   "source": [
    "def checkwin(currentgame,mark) : \n",
    "    if mark == currentgame[0] and mark == currentgame[1] and mark == currentgame[2] or mark == currentgame[3] and mark == currentgame[4] and mark == currentgame[5] or mark == currentgame[6] and mark == currentgame[7] and mark == currentgame[8] or mark == currentgame[0] and mark == currentgame[3] and mark == currentgame[6] or mark == currentgame[1] and mark == currentgame[4] and mark == currentgame[7] or mark == currentgame[2] and mark == currentgame[5] and mark == currentgame[8] or mark == currentgame[0] and mark == currentgame[4] and mark == currentgame[8] or mark == currentgame[2] and mark == currentgame[4] and mark == currentgame[6] :\n",
    "        winner = True \n",
    "    else :\n",
    "        winner = False \n",
    "    return winner     "
   ]
  },
  {
   "cell_type": "code",
   "execution_count": 6,
   "id": "7947a631",
   "metadata": {},
   "outputs": [],
   "source": [
    "def checkdraw(currentgame) : \n",
    "    if (currentgame[0] == \"X\" or currentgame[0] == \"O\") and (currentgame[1] == \"X\" or currentgame[1] == \"O\") and (currentgame[2] == \"X\" or currentgame[2] == \"O\") and (currentgame[3] == \"X\" or currentgame[3] == \"O\") and (currentgame[4] == \"X\" or currentgame[4] == \"O\") and (currentgame[5] == \"X\" or currentgame[5] == \"O\") and (currentgame[6] == \"X\" or currentgame[6] == \"O\") and (currentgame[7] == \"X\" or  currentgame[7] == \"O\") and (currentgame[8] == \"X\" or currentgame[8] == \"O\"):\n",
    "        draw = True \n",
    "    else :\n",
    "        draw = False \n",
    "    return draw   "
   ]
  },
  {
   "cell_type": "code",
   "execution_count": 7,
   "id": "112af716",
   "metadata": {},
   "outputs": [],
   "source": [
    "def players() : \n",
    "    player1 = input(\"Please input the name of player1: \")\n",
    "    player2 = input(\"Please input the name of player2: \")\n",
    "    players= (player1,player2)\n",
    "    return players"
   ]
  },
  {
   "cell_type": "code",
   "execution_count": 8,
   "id": "b6ca7f75",
   "metadata": {},
   "outputs": [],
   "source": [
    "def stop_playing () : \n",
    "    while True : \n",
    "    #Ask player if they would like to continue playing or stop playing \n",
    "        player_input = input(\"Would you like to continue playing? 'Y' or 'N': \")\n",
    "    #If player wants to continue playing return false \n",
    "        if player_input.upper() == 'Y' : \n",
    "            return False \n",
    "    #If player wants to stop playing return true  \n",
    "        elif player_input.upper() == 'N' : \n",
    "            return True \n",
    "        else :  \n",
    "            print(\"ERROR: Invalid input\\nPlease select either 'Y' or 'N'\")\n",
    "    "
   ]
  },
  {
   "cell_type": "code",
   "execution_count": 9,
   "id": "e077a8c8",
   "metadata": {},
   "outputs": [],
   "source": [
    "#Take the current boardlist, letter and the index the player wants to replace and return the new board list \n",
    "def replacement (boardlist, letter) :\n",
    "    while True :\n",
    "        index = player_input()\n",
    "        if boardlist[index-1] == \" \" :\n",
    "            boardlist[index-1] = letter\n",
    "            return boardlist\n",
    "        else : \n",
    "            print(\"\\nBox already taken, please choose another box\")"
   ]
  },
  {
   "cell_type": "code",
   "execution_count": 10,
   "id": "6294e22b",
   "metadata": {},
   "outputs": [
    {
     "name": "stdout",
     "output_type": "stream",
     "text": [
      "O | X | O\n",
      "- - - - -\n",
      "X | O | X\n",
      "- - - - -\n",
      "X | O | X\n",
      "Game is a draw\n"
     ]
    }
   ],
   "source": [
    "#TIC TAC TOE Game \n",
    "\n",
    "#Display Welcome to the game \n",
    "#Flush = True makes sure that the statement is printed out first \n",
    "print (\"Welcome to the Tic Tac Toe Game\\n\",flush = True)\n",
    "\n",
    "#Assign names for player 1 and 2 \n",
    "player1,player2 = players()\n",
    "\n",
    "\n",
    "#Print out the empty board\n",
    "boardlist = [\" \",\" \",\" \",\" \",\" \",\" \",\" \",\" \",\" \",\" \"]\n",
    "printboard(boardlist)\n",
    "letter = \"X\"\n",
    "#Game starts \n",
    "while True :\n",
    "    #Player inputs a placement point \n",
    "    #The new board starts printing \n",
    "    newboardlist = replacement(boardlist, letter)\n",
    "    printboard(newboardlist)\n",
    "    winner = checkwin(newboardlist,letter) \n",
    "    draw = checkdraw(newboardlist)\n",
    "    if winner == True : \n",
    "        if letter == \"X\" : \n",
    "            print (f\"{player1} has won\")\n",
    "        else :\n",
    "            print (f\"{player2} has won\")\n",
    "        break\n",
    "    elif draw == True : \n",
    "        print(\"Game is a draw\")\n",
    "        break\n",
    "    else :\n",
    "        stop_game = stop_playing ()\n",
    "        if stop_game == True : \n",
    "            print(\"Thank you for playing\")\n",
    "            break \n",
    "        else :    \n",
    "        #Continue the game\n",
    "            if letter == \"X\" : \n",
    "                letter = \"O\"\n",
    "            else : \n",
    "                letter = \"X\"\n",
    "        continue "
   ]
  },
  {
   "cell_type": "markdown",
   "id": "164b4537",
   "metadata": {},
   "source": []
  }
 ],
 "metadata": {
  "kernelspec": {
   "display_name": "Python 3 (ipykernel)",
   "language": "python",
   "name": "python3"
  },
  "language_info": {
   "codemirror_mode": {
    "name": "ipython",
    "version": 3
   },
   "file_extension": ".py",
   "mimetype": "text/x-python",
   "name": "python",
   "nbconvert_exporter": "python",
   "pygments_lexer": "ipython3",
   "version": "3.11.4"
  }
 },
 "nbformat": 4,
 "nbformat_minor": 5
}
